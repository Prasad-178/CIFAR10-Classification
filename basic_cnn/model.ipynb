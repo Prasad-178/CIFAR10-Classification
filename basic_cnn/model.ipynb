{
 "cells": [
  {
   "cell_type": "code",
   "execution_count": 1,
   "id": "1093f039",
   "metadata": {},
   "outputs": [],
   "source": [
    "from keras.datasets import cifar10\n",
    "import tensorflow as tf"
   ]
  },
  {
   "cell_type": "code",
   "execution_count": 2,
   "id": "ed50f594",
   "metadata": {},
   "outputs": [],
   "source": [
    "(x_train, y_train), (x_test, y_test) = cifar10.load_data()"
   ]
  },
  {
   "cell_type": "code",
   "execution_count": 3,
   "id": "bb17fb6c",
   "metadata": {},
   "outputs": [
    {
     "name": "stdout",
     "output_type": "stream",
     "text": [
      "(50000, 32, 32, 3) (50000, 1)\n",
      "(5000, 32, 32, 3) (5000, 1)\n",
      "(5000, 32, 32, 3) (5000, 1)\n"
     ]
    }
   ],
   "source": [
    "x_validation = x_test[0:5000]\n",
    "y_validation = y_test[0:5000]\n",
    "\n",
    "x_test = x_test[5000:10000]\n",
    "y_test = y_test[5000:10000]\n",
    "\n",
    "num_classes = 10\n",
    "\n",
    "print(x_train.shape, y_train.shape)\n",
    "print(x_test.shape, y_test.shape)\n",
    "print(x_validation.shape, y_validation.shape)\n"
   ]
  },
  {
   "cell_type": "code",
   "execution_count": 4,
   "id": "262f26e5",
   "metadata": {},
   "outputs": [],
   "source": [
    "# using data augmentation\n",
    "from tensorflow.keras.preprocessing.image import ImageDataGenerator\n",
    "\n",
    "train_datagen = ImageDataGenerator(\n",
    "    width_shift_range=0.2,\n",
    "    height_shift_range=0.2,\n",
    "    horizontal_flip=True\n",
    ")\n",
    "\n",
    "train_datagen.fit(x_train)\n",
    "\n",
    "validation_datagen = ImageDataGenerator(\n",
    "    width_shift_range=0.2,\n",
    "    height_shift_range=0.2,\n",
    "    horizontal_flip=True\n",
    ")\n",
    "\n",
    "validation_datagen.fit(x_validation)"
   ]
  },
  {
   "cell_type": "code",
   "execution_count": 5,
   "metadata": {},
   "outputs": [],
   "source": [
    "x_train, x_test, x_validation = x_train/255.0, x_test/255.0, x_validation/255.0\n",
    "y_train, y_test, y_validation = y_train.flatten(), y_test.flatten(), y_validation.flatten()"
   ]
  },
  {
   "cell_type": "code",
   "execution_count": 6,
   "id": "66067c39",
   "metadata": {},
   "outputs": [
    {
     "name": "stdout",
     "output_type": "stream",
     "text": [
      "(50000, 32, 32, 3) (50000,)\n"
     ]
    }
   ],
   "source": [
    "print(x_train.shape, y_train.shape)"
   ]
  },
  {
   "cell_type": "code",
   "execution_count": 7,
   "id": "25cf2a8e",
   "metadata": {},
   "outputs": [],
   "source": [
    "class myCallback(tf.keras.callbacks.Callback):\n",
    "    def on_epoch_end(self, epoch, logs={}):\n",
    "        if logs.get('accuracy') is not None and logs.get('accuracy') > 0.99:\n",
    "            print(\"\\nReached 99% accuracy so stopping training!\")\n",
    "            self.model.stop_training = True\n",
    "        if logs.get('accuracy') is not None and logs.get('accuracy') < 0.01:\n",
    "            print(\"\\nVery low accuracy, something is wrong with the model!\")\n",
    "            self.model.stop_training = True"
   ]
  },
  {
   "cell_type": "code",
   "execution_count": 8,
   "id": "3c565c31",
   "metadata": {},
   "outputs": [],
   "source": [
    "from tensorflow.keras.layers import Flatten, Dense, Conv2D, MaxPooling2D, Dropout, BatchNormalization\n",
    "from tensorflow.keras.models import Sequential"
   ]
  },
  {
   "cell_type": "code",
   "execution_count": 9,
   "id": "b2162d2b",
   "metadata": {},
   "outputs": [
    {
     "name": "stdout",
     "output_type": "stream",
     "text": [
      "Model: \"sequential\"\n",
      "_________________________________________________________________\n",
      " Layer (type)                Output Shape              Param #   \n",
      "=================================================================\n",
      " conv2d (Conv2D)             (None, 32, 32, 32)        896       \n",
      "                                                                 \n",
      " batch_normalization (BatchN  (None, 32, 32, 32)       128       \n",
      " ormalization)                                                   \n",
      "                                                                 \n",
      " conv2d_1 (Conv2D)           (None, 32, 32, 32)        9248      \n",
      "                                                                 \n",
      " batch_normalization_1 (Batc  (None, 32, 32, 32)       128       \n",
      " hNormalization)                                                 \n",
      "                                                                 \n",
      " max_pooling2d (MaxPooling2D  (None, 16, 16, 32)       0         \n",
      " )                                                               \n",
      "                                                                 \n",
      " dropout (Dropout)           (None, 16, 16, 32)        0         \n",
      "                                                                 \n",
      " conv2d_2 (Conv2D)           (None, 16, 16, 64)        18496     \n",
      "                                                                 \n",
      " batch_normalization_2 (Batc  (None, 16, 16, 64)       256       \n",
      " hNormalization)                                                 \n",
      "                                                                 \n",
      " conv2d_3 (Conv2D)           (None, 16, 16, 64)        36928     \n",
      "                                                                 \n",
      " batch_normalization_3 (Batc  (None, 16, 16, 64)       256       \n",
      " hNormalization)                                                 \n",
      "                                                                 \n",
      " max_pooling2d_1 (MaxPooling  (None, 8, 8, 64)         0         \n",
      " 2D)                                                             \n",
      "                                                                 \n",
      " dropout_1 (Dropout)         (None, 8, 8, 64)          0         \n",
      "                                                                 \n",
      " conv2d_4 (Conv2D)           (None, 8, 8, 128)         73856     \n",
      "                                                                 \n",
      " batch_normalization_4 (Batc  (None, 8, 8, 128)        512       \n",
      " hNormalization)                                                 \n",
      "                                                                 \n",
      " conv2d_5 (Conv2D)           (None, 8, 8, 128)         147584    \n",
      "                                                                 \n",
      " batch_normalization_5 (Batc  (None, 8, 8, 128)        512       \n",
      " hNormalization)                                                 \n",
      "                                                                 \n",
      " max_pooling2d_2 (MaxPooling  (None, 4, 4, 128)        0         \n",
      " 2D)                                                             \n",
      "                                                                 \n",
      " dropout_2 (Dropout)         (None, 4, 4, 128)         0         \n",
      "                                                                 \n",
      " flatten (Flatten)           (None, 2048)              0         \n",
      "                                                                 \n",
      " dropout_3 (Dropout)         (None, 2048)              0         \n",
      "                                                                 \n",
      " dense (Dense)               (None, 1024)              2098176   \n",
      "                                                                 \n",
      " dropout_4 (Dropout)         (None, 1024)              0         \n",
      "                                                                 \n",
      " dense_1 (Dense)             (None, 10)                10250     \n",
      "                                                                 \n",
      "=================================================================\n",
      "Total params: 2,397,226\n",
      "Trainable params: 2,396,330\n",
      "Non-trainable params: 896\n",
      "_________________________________________________________________\n"
     ]
    }
   ],
   "source": [
    "model = Sequential([\n",
    "    Conv2D(32, (3, 3), activation='relu', padding='same', input_shape=(32, 32, 3)),\n",
    "    BatchNormalization(),\n",
    "    Conv2D(32, (3, 3), activation='relu', padding='same'),\n",
    "    BatchNormalization(),\n",
    "    MaxPooling2D(2, 2),\n",
    "    Dropout(0.25),\n",
    "    \n",
    "    Conv2D(64, (3, 3), activation='relu', padding='same'),\n",
    "    BatchNormalization(),\n",
    "    Conv2D(64, (3, 3), activation='relu', padding='same'),\n",
    "    BatchNormalization(),\n",
    "    MaxPooling2D(),\n",
    "    Dropout(0.25),\n",
    "    \n",
    "    Conv2D(128, (3, 3), activation='relu', padding='same'),\n",
    "    BatchNormalization(),\n",
    "    Conv2D(128, (3, 3), activation='relu', padding='same'),\n",
    "    BatchNormalization(),\n",
    "    MaxPooling2D(),\n",
    "    Dropout(0.25),\n",
    "    \n",
    "    Flatten(),\n",
    "    Dropout(0.25),\n",
    "    \n",
    "    Dense(1024, activation='relu'),\n",
    "    Dropout(0.25),\n",
    "    \n",
    "    Dense(num_classes, activation='softmax')\n",
    "])\n",
    "\n",
    "model.summary()"
   ]
  },
  {
   "cell_type": "code",
   "execution_count": 10,
   "id": "54b280a8",
   "metadata": {},
   "outputs": [],
   "source": [
    "model.compile(\n",
    "    optimizer = 'adam',\n",
    "    loss = 'sparse_categorical_crossentropy',\n",
    "    metrics=['accuracy']\n",
    ")"
   ]
  },
  {
   "cell_type": "code",
   "execution_count": 24,
   "id": "63ea9fcd",
   "metadata": {},
   "outputs": [
    {
     "name": "stdout",
     "output_type": "stream",
     "text": [
      "Epoch 1/30\n",
      "1563/1563 [==============================] - 265s 170ms/step - loss: 1.4425 - accuracy: 0.4899 - val_loss: 1.1772 - val_accuracy: 0.5874\n",
      "Epoch 2/30\n",
      "1563/1563 [==============================] - 250s 160ms/step - loss: 1.0179 - accuracy: 0.6404 - val_loss: 0.8218 - val_accuracy: 0.7116\n",
      "Epoch 3/30\n",
      "1563/1563 [==============================] - 251s 160ms/step - loss: 0.8702 - accuracy: 0.6971 - val_loss: 0.8463 - val_accuracy: 0.7120\n",
      "Epoch 4/30\n",
      "1563/1563 [==============================] - 263s 168ms/step - loss: 0.7744 - accuracy: 0.7337 - val_loss: 0.7633 - val_accuracy: 0.7412\n",
      "Epoch 5/30\n",
      "1563/1563 [==============================] - 257s 164ms/step - loss: 0.7072 - accuracy: 0.7576 - val_loss: 0.6665 - val_accuracy: 0.7718\n",
      "Epoch 6/30\n",
      "1563/1563 [==============================] - 252s 161ms/step - loss: 0.6368 - accuracy: 0.7796 - val_loss: 0.6302 - val_accuracy: 0.7832\n",
      "Epoch 7/30\n",
      "1563/1563 [==============================] - 264s 169ms/step - loss: 0.5964 - accuracy: 0.7952 - val_loss: 0.6642 - val_accuracy: 0.7716\n",
      "Epoch 8/30\n",
      "1563/1563 [==============================] - 260s 167ms/step - loss: 0.5451 - accuracy: 0.8118 - val_loss: 0.6042 - val_accuracy: 0.8030\n",
      "Epoch 9/30\n",
      "1563/1563 [==============================] - 256s 164ms/step - loss: 0.5086 - accuracy: 0.8241 - val_loss: 0.5647 - val_accuracy: 0.8144\n",
      "Epoch 10/30\n",
      "1563/1563 [==============================] - 256s 164ms/step - loss: 0.4723 - accuracy: 0.8365 - val_loss: 0.5267 - val_accuracy: 0.8226\n",
      "Epoch 11/30\n",
      "1563/1563 [==============================] - 255s 163ms/step - loss: 0.4397 - accuracy: 0.8480 - val_loss: 0.5467 - val_accuracy: 0.8242\n",
      "Epoch 12/30\n",
      "1563/1563 [==============================] - 262s 168ms/step - loss: 0.4100 - accuracy: 0.8589 - val_loss: 0.5209 - val_accuracy: 0.8308\n",
      "Epoch 13/30\n",
      "1563/1563 [==============================] - 267s 171ms/step - loss: 0.3828 - accuracy: 0.8698 - val_loss: 0.5177 - val_accuracy: 0.8360\n",
      "Epoch 14/30\n",
      "1563/1563 [==============================] - 259s 166ms/step - loss: 0.3549 - accuracy: 0.8749 - val_loss: 0.4958 - val_accuracy: 0.8394\n",
      "Epoch 15/30\n",
      "1563/1563 [==============================] - 259s 166ms/step - loss: 0.3369 - accuracy: 0.8828 - val_loss: 0.4977 - val_accuracy: 0.8402\n",
      "Epoch 16/30\n",
      "1563/1563 [==============================] - 257s 164ms/step - loss: 0.3245 - accuracy: 0.8866 - val_loss: 0.4892 - val_accuracy: 0.8430\n",
      "Epoch 17/30\n",
      "1563/1563 [==============================] - 256s 164ms/step - loss: 0.3023 - accuracy: 0.8945 - val_loss: 0.5104 - val_accuracy: 0.8444\n",
      "Epoch 18/30\n",
      "1563/1563 [==============================] - 264s 169ms/step - loss: 0.2861 - accuracy: 0.8996 - val_loss: 0.5143 - val_accuracy: 0.8376\n",
      "Epoch 19/30\n",
      "1563/1563 [==============================] - 295s 189ms/step - loss: 0.2740 - accuracy: 0.9046 - val_loss: 0.4813 - val_accuracy: 0.8518\n",
      "Epoch 20/30\n",
      "1563/1563 [==============================] - 328s 210ms/step - loss: 0.2537 - accuracy: 0.9111 - val_loss: 0.5720 - val_accuracy: 0.8286\n",
      "Epoch 21/30\n",
      "1563/1563 [==============================] - 284s 181ms/step - loss: 0.2514 - accuracy: 0.9127 - val_loss: 0.5150 - val_accuracy: 0.8450\n",
      "Epoch 22/30\n",
      "1563/1563 [==============================] - 266s 170ms/step - loss: 0.2401 - accuracy: 0.9170 - val_loss: 0.5356 - val_accuracy: 0.8422\n",
      "Epoch 23/30\n",
      "1563/1563 [==============================] - 272s 174ms/step - loss: 0.2323 - accuracy: 0.9192 - val_loss: 0.5362 - val_accuracy: 0.8424\n",
      "Epoch 24/30\n",
      "1563/1563 [==============================] - 273s 175ms/step - loss: 0.2245 - accuracy: 0.9228 - val_loss: 0.4984 - val_accuracy: 0.8526\n",
      "Epoch 25/30\n",
      "1563/1563 [==============================] - 261s 167ms/step - loss: 0.2100 - accuracy: 0.9269 - val_loss: 0.5343 - val_accuracy: 0.8550\n",
      "Epoch 26/30\n",
      "1563/1563 [==============================] - 263s 168ms/step - loss: 0.2082 - accuracy: 0.9288 - val_loss: 0.4876 - val_accuracy: 0.8466\n",
      "Epoch 27/30\n",
      "1563/1563 [==============================] - 261s 167ms/step - loss: 0.1996 - accuracy: 0.9313 - val_loss: 0.5255 - val_accuracy: 0.8474\n",
      "Epoch 28/30\n",
      "1563/1563 [==============================] - 262s 168ms/step - loss: 0.1922 - accuracy: 0.9341 - val_loss: 0.5180 - val_accuracy: 0.8594\n",
      "Epoch 29/30\n",
      "1563/1563 [==============================] - 261s 167ms/step - loss: 0.1861 - accuracy: 0.9357 - val_loss: 0.5057 - val_accuracy: 0.8558\n",
      "Epoch 30/30\n",
      "1563/1563 [==============================] - 260s 166ms/step - loss: 0.1810 - accuracy: 0.9381 - val_loss: 0.5344 - val_accuracy: 0.8544\n"
     ]
    }
   ],
   "source": [
    "callbacks = myCallback()\n",
    "\n",
    "history = model.fit(\n",
    "    x_train,\n",
    "    y_train,\n",
    "    epochs=30,\n",
    "    validation_data=(\n",
    "        x_validation,\n",
    "        y_validation\n",
    "    ),\n",
    "    callbacks=[callbacks]\n",
    ")"
   ]
  },
  {
   "cell_type": "code",
   "execution_count": 25,
   "id": "a7729a3b",
   "metadata": {},
   "outputs": [
    {
     "name": "stdout",
     "output_type": "stream",
     "text": [
      "157/157 [==============================] - 6s 39ms/step - loss: 0.4944 - accuracy: 0.8634\n",
      "test accuracy is 0.8633999824523926\n"
     ]
    }
   ],
   "source": [
    "scores = model.evaluate(x_test, y_test, verbose=1)\n",
    "print(f'test accuracy is {scores[1]}')"
   ]
  },
  {
   "cell_type": "code",
   "execution_count": 26,
   "id": "7da093f9",
   "metadata": {},
   "outputs": [
    {
     "name": "stderr",
     "output_type": "stream",
     "text": [
      "WARNING:absl:Found untraced functions such as _jit_compiled_convolution_op, _jit_compiled_convolution_op, _jit_compiled_convolution_op, _jit_compiled_convolution_op, _jit_compiled_convolution_op while saving (showing 5 of 7). These functions will not be directly callable after loading.\n"
     ]
    },
    {
     "name": "stdout",
     "output_type": "stream",
     "text": [
      "INFO:tensorflow:Assets written to: saved_model/my_model\\assets\n"
     ]
    },
    {
     "name": "stderr",
     "output_type": "stream",
     "text": [
      "INFO:tensorflow:Assets written to: saved_model/my_model\\assets\n"
     ]
    }
   ],
   "source": [
    "!mkdir -p saved_model\n",
    "model.save('saved_model/my_model')"
   ]
  }
 ],
 "metadata": {
  "kernelspec": {
   "display_name": "Python 3 (ipykernel)",
   "language": "python",
   "name": "python3"
  },
  "language_info": {
   "codemirror_mode": {
    "name": "ipython",
    "version": 3
   },
   "file_extension": ".py",
   "mimetype": "text/x-python",
   "name": "python",
   "nbconvert_exporter": "python",
   "pygments_lexer": "ipython3",
   "version": "3.10.8"
  }
 },
 "nbformat": 4,
 "nbformat_minor": 5
}
